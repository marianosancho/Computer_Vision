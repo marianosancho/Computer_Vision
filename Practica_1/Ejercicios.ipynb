{
 "cells": [
  {
   "cell_type": "markdown",
   "metadata": {},
   "source": [
    "# Ejercicios Práctica 1 \n",
    "Esta práctica está diseñada para introducirte en las técnicas fundamentales de\n",
    "procesamiento de imágenes necesarias para preparar datasets efectivos para proyectos de\n",
    "Computer Vision.\n"
   ]
  },
  {
   "cell_type": "code",
   "execution_count": 2,
   "metadata": {},
   "outputs": [],
   "source": [
    "import cv2\n",
    "import numpy as np\n",
    "import matplotlib as plt"
   ]
  },
  {
   "cell_type": "markdown",
   "metadata": {},
   "source": [
    "## Ejercicio 1\n",
    "Creación de Imagen con cuatro cuadrantes de color\n",
    "\n",
    "Genera una imagen de 200x200 píxeles utilizando numpy , donde cada cuadrante tenga un\n",
    "color diferente:\n",
    "\n",
    "- **Superior izquierdo:** Rojo (255, 0, 0)\n",
    "\n",
    "- **Superior derecho:** Verde (0, 255, 0)\n",
    "\n",
    "- **Inferior izquierdo:** Azul (0, 0, 255)\n",
    "\n",
    "- **Inferior derecho:** Blanco (255, 255, 255)\n",
    "\n",
    "Muestra la imagen generada utilizando matplotlib .\n"
   ]
  }
 ],
 "metadata": {
  "kernelspec": {
   "display_name": ".venv",
   "language": "python",
   "name": "python3"
  },
  "language_info": {
   "codemirror_mode": {
    "name": "ipython",
    "version": 3
   },
   "file_extension": ".py",
   "mimetype": "text/x-python",
   "name": "python",
   "nbconvert_exporter": "python",
   "pygments_lexer": "ipython3",
   "version": "3.10.11"
  }
 },
 "nbformat": 4,
 "nbformat_minor": 2
}
